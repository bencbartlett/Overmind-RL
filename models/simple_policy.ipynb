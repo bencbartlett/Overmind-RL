{
 "cells": [
  {
   "cell_type": "code",
   "execution_count": 1,
   "metadata": {
    "collapsed": true,
    "pycharm": {
     "is_executing": false
    }
   },
   "outputs": [],
   "source": [
    "import numpy as np\n",
    "import psutil\n",
    "import torch\n",
    "import torch.nn as nn\n",
    "from torch.autograd import Variable\n",
    "from torch.optim import Adam\n",
    "from torch.distributions import Categorical\n",
    "from tqdm import tqdm_notebook as tqdm\n",
    "\n",
    "import sys; sys.path.append(\"../screeps_rl_env\")\n",
    "from screeps_rl_env import ScreepsEnv\n",
    "from screeps_rl_env.utils import kill_backend_processes"
   ]
  },
  {
   "cell_type": "code",
   "execution_count": 6,
   "metadata": {
    "pycharm": {
     "is_executing": false,
     "metadata": false,
     "name": "#%%\n"
    }
   },
   "outputs": [],
   "source": [
    "class SimplePolicy(nn.Module):\n",
    "\n",
    "    def __init__(self, env, H = 30, gamma = 0.99):\n",
    "        super().__init__()\n",
    "\n",
    "        in_dim = 4  # two set of (x, y) coords\n",
    "        out_dim = 8  # can move in 8 directions\n",
    "\n",
    "        self.linear1 = torch.nn.Linear(in_dim, H)\n",
    "        self.linear2 = torch.nn.Linear(H, out_dim)\n",
    "\n",
    "        self.gamma = gamma\n",
    "\n",
    "        # Episode policy and reward history\n",
    "        self.policy_history = Variable(torch.Tensor())\n",
    "        self.reward_episode = []\n",
    "        \n",
    "        # Overall reward and loss history\n",
    "        self.reward_history = []\n",
    "        self.loss_history = []\n",
    "        \n",
    "    def select_action(self, state):\n",
    "#         state = torch.from_numpy(state).type(torch.FloatTensor)\n",
    "        state = torch.FloatTensor(state)\n",
    "        state = self.forward(state)\n",
    "        c = Categorical(state)\n",
    "        action = c.sample()\n",
    "        log_prob = c.log_prob(action).unsqueeze(0)\n",
    "        \n",
    "        # Add log probability of our chosen action to our history    \n",
    "        if torch.numel(self.policy_history) == 0:\n",
    "            self.policy_history = log_prob\n",
    "        else:\n",
    "            self.policy_history = torch.cat((self.policy_history, log_prob))\n",
    "        return action\n",
    "        \n",
    "    def update_policy(self):\n",
    "        R = 0\n",
    "        rewards = []\n",
    "        \n",
    "        # Discount future rewards back to the present using gamma\n",
    "        for r in self.reward_episode[::-1]:\n",
    "            R = r + self.gamma * R\n",
    "            rewards.insert(0,R)\n",
    "            \n",
    "        # Scale rewards\n",
    "        rewards = torch.FloatTensor(rewards)\n",
    "        rewards = (rewards - rewards.mean()) / (rewards.std() + np.finfo(np.float32).eps)\n",
    "        \n",
    "        # Calculate loss\n",
    "        loss = torch.sum(torch.mul(self.policy_history, Variable(rewards)).mul(-1), -1)\n",
    "        \n",
    "        # Update network weights\n",
    "        optimizer.zero_grad()\n",
    "        loss.backward()\n",
    "        optimizer.step()\n",
    "        \n",
    "        #Save and intialize episode history counters\n",
    "        self.loss_history.append(loss.item())\n",
    "        self.reward_history.append(np.sum(self.reward_episode))\n",
    "        self.policy_history = Variable(torch.Tensor())\n",
    "        self.reward_episode = []\n",
    "    \n",
    "    def forward(self, x):\n",
    "        \"\"\"Returns a size-8 vector of one-hot probabilities to move in whichever direction\"\"\"\n",
    "        out = self.linear1(x)\n",
    "        out = nn.ReLU()(out)\n",
    "        out = self.linear2(out)\n",
    "        out = nn.Softmax(dim=0)(out)\n",
    "        return out\n"
   ]
  },
  {
   "cell_type": "code",
   "execution_count": 7,
   "metadata": {
    "pycharm": {
     "is_executing": false,
     "metadata": false,
     "name": "#%%\n"
    }
   },
   "outputs": [],
   "source": [
    "def train(episodes):\n",
    "    running_reward = 10\n",
    "    \n",
    "    for episode in range(episodes):\n",
    "        \n",
    "        print(f\"Starting episode {episode}\")\n",
    "        \n",
    "        state = env.reset() # Reset environment and record the starting state\n",
    "    \n",
    "        iterator = tqdm(range(200))\n",
    "        for time in iterator:\n",
    "            \n",
    "            action = policy.select_action(state)\n",
    "            \n",
    "            # Step through environment using chosen action\n",
    "            state, reward, done, _ = env.step(action.item())\n",
    "#             print(state)\n",
    "            # Save reward\n",
    "            policy.reward_episode.append(reward)\n",
    "            if done:\n",
    "                break\n",
    "                \n",
    "            iterator.set_description(\"ℛ={:.2f}\".format(reward), refresh=False)\n",
    "        \n",
    "        # Used to determine when the environment is solved.\n",
    "        running_reward = (running_reward * 0.99) + (time * 0.01)\n",
    "\n",
    "        policy.update_policy()\n",
    "\n",
    "        if episode % 50 == 0:\n",
    "            print('Episode {}\\tLast length: {:5d}\\tAverage length: {:.2f}'.format(episode, time, running_reward))"
   ]
  },
  {
   "cell_type": "code",
   "execution_count": 8,
   "metadata": {
    "pycharm": {
     "is_executing": false,
     "metadata": false,
     "name": "#%%\n"
    }
   },
   "outputs": [
    {
     "name": "stdout",
     "output_type": "stream",
     "text": [
      "Starting remote server at 21025...\n",
      "Connected; response: [None]\n",
      "Starting episode 0\n",
      "Resetting training environment\n"
     ]
    },
    {
     "data": {
      "application/vnd.jupyter.widget-view+json": {
       "model_id": "93a14cdebd0f41e2b9047e2c22ed975c",
       "version_major": 2,
       "version_minor": 0
      },
      "text/plain": [
       "HBox(children=(IntProgress(value=0, max=200), HTML(value='')))"
      ]
     },
     "metadata": {},
     "output_type": "display_data"
    },
    {
     "name": "stdout",
     "output_type": "stream",
     "text": [
      "\n",
      "Episode 0\tLast length:   199\tAverage length: 11.89\n",
      "Starting episode 1\n",
      "Resetting training environment\n"
     ]
    },
    {
     "data": {
      "application/vnd.jupyter.widget-view+json": {
       "model_id": "8126c7bf90bb4ef0aeccbc82829580df",
       "version_major": 2,
       "version_minor": 0
      },
      "text/plain": [
       "HBox(children=(IntProgress(value=0, max=200), HTML(value='')))"
      ]
     },
     "metadata": {},
     "output_type": "display_data"
    },
    {
     "name": "stdout",
     "output_type": "stream",
     "text": [
      "\n",
      "Starting episode 2\n",
      "Resetting training environment\n"
     ]
    },
    {
     "data": {
      "application/vnd.jupyter.widget-view+json": {
       "model_id": "f5ca7b6d909246cf9e9e1e5d6553e7a7",
       "version_major": 2,
       "version_minor": 0
      },
      "text/plain": [
       "HBox(children=(IntProgress(value=0, max=200), HTML(value='')))"
      ]
     },
     "metadata": {},
     "output_type": "display_data"
    },
    {
     "name": "stdout",
     "output_type": "stream",
     "text": [
      "\n",
      "Starting episode 3\n",
      "Resetting training environment\n"
     ]
    },
    {
     "data": {
      "application/vnd.jupyter.widget-view+json": {
       "model_id": "d2919443af994e00b157160d1950649c",
       "version_major": 2,
       "version_minor": 0
      },
      "text/plain": [
       "HBox(children=(IntProgress(value=0, max=200), HTML(value='')))"
      ]
     },
     "metadata": {},
     "output_type": "display_data"
    },
    {
     "name": "stdout",
     "output_type": "stream",
     "text": [
      "\n",
      "Starting episode 4\n",
      "Resetting training environment\n"
     ]
    },
    {
     "data": {
      "application/vnd.jupyter.widget-view+json": {
       "model_id": "417a1af0359b4a28aa3c728353569a97",
       "version_major": 2,
       "version_minor": 0
      },
      "text/plain": [
       "HBox(children=(IntProgress(value=0, max=200), HTML(value='')))"
      ]
     },
     "metadata": {},
     "output_type": "display_data"
    },
    {
     "name": "stdout",
     "output_type": "stream",
     "text": [
      "\n",
      "Starting episode 5\n",
      "Resetting training environment\n"
     ]
    },
    {
     "data": {
      "application/vnd.jupyter.widget-view+json": {
       "model_id": "2b88250b7ffd4500b090938dded6a485",
       "version_major": 2,
       "version_minor": 0
      },
      "text/plain": [
       "HBox(children=(IntProgress(value=0, max=200), HTML(value='')))"
      ]
     },
     "metadata": {},
     "output_type": "display_data"
    },
    {
     "name": "stdout",
     "output_type": "stream",
     "text": [
      "\n",
      "Starting episode 6\n",
      "Resetting training environment\n"
     ]
    },
    {
     "data": {
      "application/vnd.jupyter.widget-view+json": {
       "model_id": "e004324865c6425ebbcc8e70cf5e75df",
       "version_major": 2,
       "version_minor": 0
      },
      "text/plain": [
       "HBox(children=(IntProgress(value=0, max=200), HTML(value='')))"
      ]
     },
     "metadata": {},
     "output_type": "display_data"
    },
    {
     "name": "stdout",
     "output_type": "stream",
     "text": [
      "\n",
      "Starting episode 7\n",
      "Resetting training environment\n"
     ]
    },
    {
     "data": {
      "application/vnd.jupyter.widget-view+json": {
       "model_id": "4d609bd9d11a425bb6289f5c861bec9d",
       "version_major": 2,
       "version_minor": 0
      },
      "text/plain": [
       "HBox(children=(IntProgress(value=0, max=200), HTML(value='')))"
      ]
     },
     "metadata": {},
     "output_type": "display_data"
    },
    {
     "name": "stdout",
     "output_type": "stream",
     "text": [
      "\n",
      "Starting episode 8\n",
      "Resetting training environment\n"
     ]
    },
    {
     "data": {
      "application/vnd.jupyter.widget-view+json": {
       "model_id": "1cb36cc7a56b40d5a02ebda429cc9b1b",
       "version_major": 2,
       "version_minor": 0
      },
      "text/plain": [
       "HBox(children=(IntProgress(value=0, max=200), HTML(value='')))"
      ]
     },
     "metadata": {},
     "output_type": "display_data"
    },
    {
     "name": "stdout",
     "output_type": "stream",
     "text": [
      "\n",
      "Starting episode 9\n",
      "Resetting training environment\n"
     ]
    },
    {
     "data": {
      "application/vnd.jupyter.widget-view+json": {
       "model_id": "0593399c09b9472993f05b6d48475a5a",
       "version_major": 2,
       "version_minor": 0
      },
      "text/plain": [
       "HBox(children=(IntProgress(value=0, max=200), HTML(value='')))"
      ]
     },
     "metadata": {},
     "output_type": "display_data"
    },
    {
     "name": "stdout",
     "output_type": "stream",
     "text": [
      "\n"
     ]
    }
   ],
   "source": [
    "# Hyperparameters\n",
    "learning_rate = 0.01\n",
    "\n",
    "env = ScreepsEnv(0)\n",
    "policy = SimplePolicy(env)\n",
    "optimizer = Adam(policy.parameters(), lr=learning_rate)\n",
    "train(10)"
   ]
  },
  {
   "cell_type": "code",
   "execution_count": 9,
   "metadata": {},
   "outputs": [
    {
     "data": {
      "text/plain": [
       "[5995.028105494343,\n",
       " 6204.982027929609,\n",
       " 8660.944669470278,\n",
       " 5494.876068496644,\n",
       " 2226.2949798367945,\n",
       " 7676.563802309609,\n",
       " 2088.1385497853526,\n",
       " 4246.450696384683,\n",
       " 7195.571632675452,\n",
       " 1382.7957990420737]"
      ]
     },
     "execution_count": 9,
     "metadata": {},
     "output_type": "execute_result"
    }
   ],
   "source": [
    "policy.reward_history"
   ]
  },
  {
   "cell_type": "code",
   "execution_count": 10,
   "metadata": {},
   "outputs": [
    {
     "data": {
      "text/plain": [
       "[]"
      ]
     },
     "execution_count": 10,
     "metadata": {},
     "output_type": "execute_result"
    }
   ],
   "source": [
    "policy.reward_episode"
   ]
  },
  {
   "cell_type": "code",
   "execution_count": 20,
   "metadata": {},
   "outputs": [
    {
     "name": "stdout",
     "output_type": "stream",
     "text": [
      "Killing processes with pids []\n",
      "Terminated processes:  []\n",
      "Remaining processes:  []\n"
     ]
    }
   ],
   "source": [
    "kill_backend_processes()"
   ]
  },
  {
   "cell_type": "code",
   "execution_count": null,
   "metadata": {},
   "outputs": [],
   "source": []
  }
 ],
 "metadata": {
  "kernelspec": {
   "display_name": "Python 3",
   "language": "python",
   "name": "python3"
  },
  "language_info": {
   "codemirror_mode": {
    "name": "ipython",
    "version": 3
   },
   "file_extension": ".py",
   "mimetype": "text/x-python",
   "name": "python",
   "nbconvert_exporter": "python",
   "pygments_lexer": "ipython3",
   "version": "3.6.7"
  }
 },
 "nbformat": 4,
 "nbformat_minor": 2
}
