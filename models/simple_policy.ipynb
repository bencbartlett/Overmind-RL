{
 "cells": [
  {
   "cell_type": "code",
   "execution_count": 1,
   "metadata": {
    "collapsed": true,
    "pycharm": {
     "is_executing": false
    }
   },
   "outputs": [],
   "source": [
    "import numpy as np\n",
    "import psutil\n",
    "import torch\n",
    "import torch.nn as nn\n",
    "from torch.autograd import Variable\n",
    "from torch.optim import Adam\n",
    "from torch.distributions import Categorical\n",
    "from tqdm import tqdm_notebook as tqdm\n",
    "\n",
    "import sys; sys.path.append(\"../screeps_rl_env\")\n",
    "from screeps_rl_env import ScreepsEnv\n",
    "from screeps_rl_env.utils import kill_backend_processes"
   ]
  },
  {
   "cell_type": "code",
   "execution_count": 2,
   "metadata": {
    "pycharm": {
     "is_executing": false,
     "metadata": false,
     "name": "#%%\n"
    }
   },
   "outputs": [],
   "source": [
    "class SimplePolicy(nn.Module):\n",
    "\n",
    "    def __init__(self, env, H = 30, gamma = 0.99):\n",
    "        super().__init__()\n",
    "\n",
    "        in_dim = 4  # two set of (x, y) coords\n",
    "        out_dim = 8  # can move in 8 directions\n",
    "\n",
    "        self.linear1 = torch.nn.Linear(in_dim, H)\n",
    "        self.linear2 = torch.nn.Linear(H, out_dim)\n",
    "\n",
    "        self.gamma = gamma\n",
    "\n",
    "        # Episode policy and reward history\n",
    "        self.policy_history = Variable(torch.Tensor())\n",
    "        self.reward_episode = []\n",
    "        \n",
    "        # Overall reward and loss history\n",
    "        self.reward_history = []\n",
    "        self.loss_history = []\n",
    "        \n",
    "    def select_action(self, state):\n",
    "#         state = torch.from_numpy(state).type(torch.FloatTensor)\n",
    "        state = torch.FloatTensor(state)\n",
    "        state = self.forward(state)\n",
    "        c = Categorical(state)\n",
    "        action = c.sample()\n",
    "        log_prob = c.log_prob(action).unsqueeze(0)\n",
    "        \n",
    "        # Add log probability of our chosen action to our history    \n",
    "        if torch.numel(self.policy_history) == 0:\n",
    "            self.policy_history = log_prob\n",
    "        else:\n",
    "            self.policy_history = torch.cat((self.policy_history, log_prob))\n",
    "        return action\n",
    "        \n",
    "    def update_policy(self):\n",
    "        R = 0\n",
    "        rewards = []\n",
    "        \n",
    "        # Discount future rewards back to the present using gamma\n",
    "        for r in self.reward_episode[::-1]:\n",
    "            R = r + self.gamma * R\n",
    "            rewards.insert(0,R)\n",
    "            \n",
    "        # Scale rewards\n",
    "        rewards = torch.FloatTensor(rewards)\n",
    "        rewards = (rewards - rewards.mean()) / (rewards.std() + np.finfo(np.float32).eps)\n",
    "        \n",
    "        # Calculate loss\n",
    "        loss = torch.sum(torch.mul(self.policy_history, Variable(rewards)).mul(-1), -1)\n",
    "        \n",
    "        # Update network weights\n",
    "        optimizer.zero_grad()\n",
    "        loss.backward()\n",
    "        optimizer.step()\n",
    "        \n",
    "        #Save and intialize episode history counters\n",
    "        self.loss_history.append(loss.item())\n",
    "        self.reward_history.append(np.sum(self.reward_episode))\n",
    "        self.policy_history = Variable(torch.Tensor())\n",
    "        self.reward_episode = []\n",
    "    \n",
    "    def forward(self, x):\n",
    "        \"\"\"Returns a size-8 vector of one-hot probabilities to move in whichever direction\"\"\"\n",
    "        out = self.linear1(x)\n",
    "        out = nn.ReLU()(out)\n",
    "        out = self.linear2(out)\n",
    "        out = nn.Softmax(dim=0)(out)\n",
    "        return out\n"
   ]
  },
  {
   "cell_type": "code",
   "execution_count": 3,
   "metadata": {
    "pycharm": {
     "is_executing": false,
     "metadata": false,
     "name": "#%%\n"
    }
   },
   "outputs": [],
   "source": [
    "def train(episodes):\n",
    "    running_reward = 10\n",
    "    \n",
    "    for episode in range(episodes):\n",
    "        \n",
    "        print(f\"Starting episode {episode}\")\n",
    "        \n",
    "        state = env.reset() # Reset environment and record the starting state\n",
    "    \n",
    "        for time in tqdm(range(500)):\n",
    "            \n",
    "            action = policy.select_action(state)\n",
    "            \n",
    "            # Step through environment using chosen action\n",
    "            state, reward, done, _ = env.step(action.item())\n",
    "#             print(state)\n",
    "            # Save reward\n",
    "            policy.reward_episode.append(reward)\n",
    "            if done:\n",
    "                break\n",
    "        \n",
    "        # Used to determine when the environment is solved.\n",
    "        running_reward = (running_reward * 0.99) + (time * 0.01)\n",
    "\n",
    "        policy.update_policy()\n",
    "\n",
    "        if episode % 50 == 0:\n",
    "            print('Episode {}\\tLast length: {:5d}\\tAverage length: {:.2f}'.format(episode, time, running_reward))\n",
    "\n",
    "        if running_reward > env.spec.reward_threshold:\n",
    "            print(\"Solved! Running reward is now {} and the last episode runs to {} time steps!\".format(running_reward, time))\n",
    "            break"
   ]
  },
  {
   "cell_type": "code",
   "execution_count": 4,
   "metadata": {
    "pycharm": {
     "is_executing": false,
     "metadata": false,
     "name": "#%%\n"
    }
   },
   "outputs": [
    {
     "name": "stdout",
     "output_type": "stream",
     "text": [
      "Starting remote server at 21025...\n",
      "Connected; response: [None]\n",
      "Starting episode 0\n",
      "Resetting training environment\n"
     ]
    },
    {
     "data": {
      "application/vnd.jupyter.widget-view+json": {
       "model_id": "cbec82d130fa4302bf444096430a0768",
       "version_major": 2,
       "version_minor": 0
      },
      "text/plain": [
       "HBox(children=(IntProgress(value=0, max=500), HTML(value='')))"
      ]
     },
     "metadata": {},
     "output_type": "display_data"
    },
    {
     "name": "stdout",
     "output_type": "stream",
     "text": [
      "\n",
      "Episode 0\tLast length:   499\tAverage length: 14.89\n"
     ]
    },
    {
     "ename": "AttributeError",
     "evalue": "'NoneType' object has no attribute 'reward_threshold'",
     "output_type": "error",
     "traceback": [
      "\u001b[0;31m---------------------------------------------------------------------------\u001b[0m",
      "\u001b[0;31mAttributeError\u001b[0m                            Traceback (most recent call last)",
      "\u001b[0;32m<ipython-input-4-5cae71ffbfed>\u001b[0m in \u001b[0;36m<module>\u001b[0;34m()\u001b[0m\n\u001b[1;32m      5\u001b[0m \u001b[0mpolicy\u001b[0m \u001b[0;34m=\u001b[0m \u001b[0mSimplePolicy\u001b[0m\u001b[0;34m(\u001b[0m\u001b[0menv\u001b[0m\u001b[0;34m)\u001b[0m\u001b[0;34m\u001b[0m\u001b[0;34m\u001b[0m\u001b[0m\n\u001b[1;32m      6\u001b[0m \u001b[0moptimizer\u001b[0m \u001b[0;34m=\u001b[0m \u001b[0mAdam\u001b[0m\u001b[0;34m(\u001b[0m\u001b[0mpolicy\u001b[0m\u001b[0;34m.\u001b[0m\u001b[0mparameters\u001b[0m\u001b[0;34m(\u001b[0m\u001b[0;34m)\u001b[0m\u001b[0;34m,\u001b[0m \u001b[0mlr\u001b[0m\u001b[0;34m=\u001b[0m\u001b[0mlearning_rate\u001b[0m\u001b[0;34m)\u001b[0m\u001b[0;34m\u001b[0m\u001b[0;34m\u001b[0m\u001b[0m\n\u001b[0;32m----> 7\u001b[0;31m \u001b[0mtrain\u001b[0m\u001b[0;34m(\u001b[0m\u001b[0;36m10\u001b[0m\u001b[0;34m)\u001b[0m\u001b[0;34m\u001b[0m\u001b[0;34m\u001b[0m\u001b[0m\n\u001b[0m",
      "\u001b[0;32m<ipython-input-3-fd9ab22e7e19>\u001b[0m in \u001b[0;36mtrain\u001b[0;34m(episodes)\u001b[0m\n\u001b[1;32m     28\u001b[0m             \u001b[0mprint\u001b[0m\u001b[0;34m(\u001b[0m\u001b[0;34m'Episode {}\\tLast length: {:5d}\\tAverage length: {:.2f}'\u001b[0m\u001b[0;34m.\u001b[0m\u001b[0mformat\u001b[0m\u001b[0;34m(\u001b[0m\u001b[0mepisode\u001b[0m\u001b[0;34m,\u001b[0m \u001b[0mtime\u001b[0m\u001b[0;34m,\u001b[0m \u001b[0mrunning_reward\u001b[0m\u001b[0;34m)\u001b[0m\u001b[0;34m)\u001b[0m\u001b[0;34m\u001b[0m\u001b[0;34m\u001b[0m\u001b[0m\n\u001b[1;32m     29\u001b[0m \u001b[0;34m\u001b[0m\u001b[0m\n\u001b[0;32m---> 30\u001b[0;31m         \u001b[0;32mif\u001b[0m \u001b[0mrunning_reward\u001b[0m \u001b[0;34m>\u001b[0m \u001b[0menv\u001b[0m\u001b[0;34m.\u001b[0m\u001b[0mspec\u001b[0m\u001b[0;34m.\u001b[0m\u001b[0mreward_threshold\u001b[0m\u001b[0;34m:\u001b[0m\u001b[0;34m\u001b[0m\u001b[0;34m\u001b[0m\u001b[0m\n\u001b[0m\u001b[1;32m     31\u001b[0m             \u001b[0mprint\u001b[0m\u001b[0;34m(\u001b[0m\u001b[0;34m\"Solved! Running reward is now {} and the last episode runs to {} time steps!\"\u001b[0m\u001b[0;34m.\u001b[0m\u001b[0mformat\u001b[0m\u001b[0;34m(\u001b[0m\u001b[0mrunning_reward\u001b[0m\u001b[0;34m,\u001b[0m \u001b[0mtime\u001b[0m\u001b[0;34m)\u001b[0m\u001b[0;34m)\u001b[0m\u001b[0;34m\u001b[0m\u001b[0;34m\u001b[0m\u001b[0m\n\u001b[1;32m     32\u001b[0m             \u001b[0;32mbreak\u001b[0m\u001b[0;34m\u001b[0m\u001b[0;34m\u001b[0m\u001b[0m\n",
      "\u001b[0;31mAttributeError\u001b[0m: 'NoneType' object has no attribute 'reward_threshold'"
     ]
    }
   ],
   "source": [
    "# Hyperparameters\n",
    "learning_rate = 0.01\n",
    "\n",
    "env = ScreepsEnv(0)\n",
    "policy = SimplePolicy(env)\n",
    "optimizer = Adam(policy.parameters(), lr=learning_rate)\n",
    "train(10)"
   ]
  },
  {
   "cell_type": "code",
   "execution_count": 5,
   "metadata": {},
   "outputs": [
    {
     "ename": "NameError",
     "evalue": "name 'loss' is not defined",
     "output_type": "error",
     "traceback": [
      "\u001b[0;31m---------------------------------------------------------------------------\u001b[0m",
      "\u001b[0;31mNameError\u001b[0m                                 Traceback (most recent call last)",
      "\u001b[0;32m<ipython-input-5-de191f53719d>\u001b[0m in \u001b[0;36m<module>\u001b[0;34m()\u001b[0m\n\u001b[0;32m----> 1\u001b[0;31m \u001b[0mloss\u001b[0m\u001b[0;34m\u001b[0m\u001b[0;34m\u001b[0m\u001b[0m\n\u001b[0m",
      "\u001b[0;31mNameError\u001b[0m: name 'loss' is not defined"
     ]
    }
   ],
   "source": [
    "loss"
   ]
  },
  {
   "cell_type": "code",
   "execution_count": 6,
   "metadata": {},
   "outputs": [
    {
     "name": "stdout",
     "output_type": "stream",
     "text": [
      "> \u001b[0;32m<ipython-input-5-de191f53719d>\u001b[0m(1)\u001b[0;36m<module>\u001b[0;34m()\u001b[0m\n",
      "\u001b[0;32m----> 1 \u001b[0;31m\u001b[0mloss\u001b[0m\u001b[0;34m\u001b[0m\u001b[0;34m\u001b[0m\u001b[0m\n",
      "\u001b[0m\n",
      "*** NameError: name 'back' is not defined\n",
      "\n",
      "Documented commands (type help <topic>):\n",
      "========================================\n",
      "EOF    cl         disable  interact  next    psource  rv         unt   \n",
      "a      clear      display  j         p       q        s          until \n",
      "alias  commands   down     jump      pdef    quit     source     up    \n",
      "args   condition  enable   l         pdoc    r        step       w     \n",
      "b      cont       exit     list      pfile   restart  tbreak     whatis\n",
      "break  continue   h        ll        pinfo   return   u          where \n",
      "bt     d          help     longlist  pinfo2  retval   unalias  \n",
      "c      debug      ignore   n         pp      run      undisplay\n",
      "\n",
      "Miscellaneous help topics:\n",
      "==========================\n",
      "exec  pdb\n",
      "\n"
     ]
    }
   ],
   "source": [
    "%debug"
   ]
  },
  {
   "cell_type": "code",
   "execution_count": 15,
   "metadata": {},
   "outputs": [
    {
     "data": {
      "text/plain": [
       "((42, 37, 34, 46), 37.9584054212077, False, {})"
      ]
     },
     "execution_count": 15,
     "metadata": {},
     "output_type": "execute_result"
    }
   ],
   "source": [
    "env.step(1)"
   ]
  },
  {
   "cell_type": "code",
   "execution_count": 18,
   "metadata": {},
   "outputs": [],
   "source": [
    "def kill_backend_processes(servers=(0,1,2), verbose=True):\n",
    "    \n",
    "    def on_terminate(proc):\n",
    "        if verbose: print(\"Process {} terminated with exit code {}\".format(proc, proc.returncode))\n",
    "    \n",
    "    look_ports = []\n",
    "    for server in servers:\n",
    "        look_ports.extend([21025 + 5 * server + 0, 21025 + 5 * server + 1, 21025 + 5 * server + 2])\n",
    "    \n",
    "    kill_pids = []\n",
    "    for conn in psutil.net_connections():\n",
    "        if (len(conn.laddr) > 0 and conn.laddr.port in look_ports) \\\n",
    "        or (len(conn.raddr) > 0 and conn.raddr.port in look_ports):\n",
    "            kill_pids.append(conn.pid)\n",
    "        \n",
    "    print(\"Killing processes with pids {}\".format(kill_pids))\n",
    "    processes = [psutil.Process(pid = pid) for pid in kill_pids]\n",
    "\n",
    "    for pid in kill_pids:\n",
    "        process = psutil.Process(pid = pid)\n",
    "        process.kill()\n",
    "        \n",
    "    dead, alive = psutil.wait_procs(processes, timeout=3, callback=on_terminate)\n",
    "    if verbose: print(\"Terminated processes: \", dead)\n",
    "    if verbose: print(\"Remaining processes: \", alive)"
   ]
  },
  {
   "cell_type": "code",
   "execution_count": 20,
   "metadata": {},
   "outputs": [
    {
     "name": "stdout",
     "output_type": "stream",
     "text": [
      "Killing processes with pids []\n",
      "Terminated processes:  []\n",
      "Remaining processes:  []\n"
     ]
    }
   ],
   "source": [
    "kill_backend_processes()"
   ]
  },
  {
   "cell_type": "code",
   "execution_count": 17,
   "metadata": {},
   "outputs": [],
   "source": [
    "env.interface.tick()"
   ]
  },
  {
   "cell_type": "code",
   "execution_count": null,
   "metadata": {},
   "outputs": [],
   "source": []
  }
 ],
 "metadata": {
  "kernelspec": {
   "display_name": "Python 3",
   "language": "python",
   "name": "python3"
  },
  "language_info": {
   "codemirror_mode": {
    "name": "ipython",
    "version": 3
   },
   "file_extension": ".py",
   "mimetype": "text/x-python",
   "name": "python",
   "nbconvert_exporter": "python",
   "pygments_lexer": "ipython3",
   "version": "3.6.7"
  }
 },
 "nbformat": 4,
 "nbformat_minor": 2
}
